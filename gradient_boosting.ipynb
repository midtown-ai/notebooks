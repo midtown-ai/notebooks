{
 "cells": [
  {
   "attachments": {},
   "cell_type": "markdown",
   "metadata": {},
   "source": [
    "# Gradient boosting + XGBoost"
   ]
  },
  {
   "cell_type": "code",
   "execution_count": 2,
   "metadata": {},
   "outputs": [],
   "source": [
    "import pandas as pd\n",
    "\n",
    "from sklearn.model_selection import train_test_split\n",
    "from sklearn.ensemble import GradientBoostingClassifier\n"
   ]
  },
  {
   "attachments": {},
   "cell_type": "markdown",
   "metadata": {},
   "source": []
  },
  {
   "cell_type": "code",
   "execution_count": 3,
   "metadata": {},
   "outputs": [],
   "source": [
    "iris =pd.read_csv(\"https://gist.githubusercontent.com/netj/8836201/raw/6f9306ad21398ea43cba4f7d537619d0e07d5ae3/iris.csv\")"
   ]
  },
  {
   "cell_type": "code",
   "execution_count": 4,
   "metadata": {},
   "outputs": [],
   "source": [
    "X = iris.drop('variety',axis=1)\n",
    "Y= iris['variety']\n",
    "\n",
    "X_train,X_test,Y_train,Y_test =train_test_split(X,Y,test_size=0.3)"
   ]
  },
  {
   "cell_type": "code",
   "execution_count": 5,
   "metadata": {},
   "outputs": [
    {
     "name": "stdout",
     "output_type": "stream",
     "text": [
      "Learning rate:  0.05\n",
      "Accuracy score (training): 0.990\n",
      "Accuracy score (validation): 0.911\n",
      "Learning rate:  0.075\n",
      "Accuracy score (training): 1.000\n",
      "Accuracy score (validation): 0.911\n",
      "Learning rate:  0.1\n",
      "Accuracy score (training): 1.000\n",
      "Accuracy score (validation): 0.911\n",
      "Learning rate:  0.25\n",
      "Accuracy score (training): 1.000\n",
      "Accuracy score (validation): 0.911\n",
      "Learning rate:  0.5\n",
      "Accuracy score (training): 1.000\n",
      "Accuracy score (validation): 0.911\n",
      "Learning rate:  0.75\n",
      "Accuracy score (training): 1.000\n",
      "Accuracy score (validation): 0.911\n",
      "Learning rate:  1\n",
      "Accuracy score (training): 1.000\n",
      "Accuracy score (validation): 0.911\n"
     ]
    }
   ],
   "source": [
    "lr_list = [0.05, 0.075, 0.1, 0.25, 0.5, 0.75, 1]\n",
    "\n",
    "for learning_rate in lr_list:\n",
    "    gb_clf = GradientBoostingClassifier(n_estimators=20, \n",
    "                                        learning_rate=learning_rate, \n",
    "                                        max_features=2, max_depth=2, \n",
    "                                        random_state=0)\n",
    "    gb_clf.fit(X_train, Y_train)\n",
    "    \n",
    "    print(\"Learning rate: \", learning_rate)\n",
    "    print(\"Accuracy score (training): {0:.3f}\".format(gb_clf.score(X_train, Y_train)))\n",
    "    print(\"Accuracy score (validation): {0:.3f}\".format(gb_clf.score(X_test,Y_test)))"
   ]
  },
  {
   "cell_type": "code",
   "execution_count": 8,
   "metadata": {},
   "outputs": [
    {
     "data": {
      "text/plain": [
       "array([[DecisionTreeRegressor(criterion='friedman_mse', max_depth=2, max_features=2,\n",
       "                              random_state=RandomState(MT19937) at 0x7FDB10A13340)  ,\n",
       "        DecisionTreeRegressor(criterion='friedman_mse', max_depth=2, max_features=2,\n",
       "                              random_state=RandomState(MT19937) at 0x7FDB10A13340)  ,\n",
       "        DecisionTreeRegressor(criterion='friedman_mse', max_depth=2, max_features=2,\n",
       "                              random_state=RandomState(MT19937) at 0x7FDB10A13340)  ],\n",
       "       [DecisionTreeRegressor(criterion='friedman_mse', max_depth=2, max_features=2,\n",
       "                              random_state=RandomState(MT19937) at 0x7FDB10A13340)  ,\n",
       "        DecisionTreeRegressor(criterion='friedman_mse', max_depth=2, max_features=2,\n",
       "                              random_state=RandomState(MT19937) at 0x7FDB10A13340)  ,\n",
       "        DecisionTreeRegressor(criterion='friedman_mse', max_depth=2, max_features=2,\n",
       "                              random_state=RandomState(MT19937) at 0x7FDB10A13340)  ],\n",
       "       [DecisionTreeRegressor(criterion='friedman_mse', max_depth=2, max_features=2,\n",
       "                              random_state=RandomState(MT19937) at 0x7FDB10A13340)  ,\n",
       "        DecisionTreeRegressor(criterion='friedman_mse', max_depth=2, max_features=2,\n",
       "                              random_state=RandomState(MT19937) at 0x7FDB10A13340)  ,\n",
       "        DecisionTreeRegressor(criterion='friedman_mse', max_depth=2, max_features=2,\n",
       "                              random_state=RandomState(MT19937) at 0x7FDB10A13340)  ],\n",
       "       [DecisionTreeRegressor(criterion='friedman_mse', max_depth=2, max_features=2,\n",
       "                              random_state=RandomState(MT19937) at 0x7FDB10A13340)  ,\n",
       "        DecisionTreeRegressor(criterion='friedman_mse', max_depth=2, max_features=2,\n",
       "                              random_state=RandomState(MT19937) at 0x7FDB10A13340)  ,\n",
       "        DecisionTreeRegressor(criterion='friedman_mse', max_depth=2, max_features=2,\n",
       "                              random_state=RandomState(MT19937) at 0x7FDB10A13340)  ],\n",
       "       [DecisionTreeRegressor(criterion='friedman_mse', max_depth=2, max_features=2,\n",
       "                              random_state=RandomState(MT19937) at 0x7FDB10A13340)  ,\n",
       "        DecisionTreeRegressor(criterion='friedman_mse', max_depth=2, max_features=2,\n",
       "                              random_state=RandomState(MT19937) at 0x7FDB10A13340)  ,\n",
       "        DecisionTreeRegressor(criterion='friedman_mse', max_depth=2, max_features=2,\n",
       "                              random_state=RandomState(MT19937) at 0x7FDB10A13340)  ],\n",
       "       [DecisionTreeRegressor(criterion='friedman_mse', max_depth=2, max_features=2,\n",
       "                              random_state=RandomState(MT19937) at 0x7FDB10A13340)  ,\n",
       "        DecisionTreeRegressor(criterion='friedman_mse', max_depth=2, max_features=2,\n",
       "                              random_state=RandomState(MT19937) at 0x7FDB10A13340)  ,\n",
       "        DecisionTreeRegressor(criterion='friedman_mse', max_depth=2, max_features=2,\n",
       "                              random_state=RandomState(MT19937) at 0x7FDB10A13340)  ],\n",
       "       [DecisionTreeRegressor(criterion='friedman_mse', max_depth=2, max_features=2,\n",
       "                              random_state=RandomState(MT19937) at 0x7FDB10A13340)  ,\n",
       "        DecisionTreeRegressor(criterion='friedman_mse', max_depth=2, max_features=2,\n",
       "                              random_state=RandomState(MT19937) at 0x7FDB10A13340)  ,\n",
       "        DecisionTreeRegressor(criterion='friedman_mse', max_depth=2, max_features=2,\n",
       "                              random_state=RandomState(MT19937) at 0x7FDB10A13340)  ],\n",
       "       [DecisionTreeRegressor(criterion='friedman_mse', max_depth=2, max_features=2,\n",
       "                              random_state=RandomState(MT19937) at 0x7FDB10A13340)  ,\n",
       "        DecisionTreeRegressor(criterion='friedman_mse', max_depth=2, max_features=2,\n",
       "                              random_state=RandomState(MT19937) at 0x7FDB10A13340)  ,\n",
       "        DecisionTreeRegressor(criterion='friedman_mse', max_depth=2, max_features=2,\n",
       "                              random_state=RandomState(MT19937) at 0x7FDB10A13340)  ],\n",
       "       [DecisionTreeRegressor(criterion='friedman_mse', max_depth=2, max_features=2,\n",
       "                              random_state=RandomState(MT19937) at 0x7FDB10A13340)  ,\n",
       "        DecisionTreeRegressor(criterion='friedman_mse', max_depth=2, max_features=2,\n",
       "                              random_state=RandomState(MT19937) at 0x7FDB10A13340)  ,\n",
       "        DecisionTreeRegressor(criterion='friedman_mse', max_depth=2, max_features=2,\n",
       "                              random_state=RandomState(MT19937) at 0x7FDB10A13340)  ],\n",
       "       [DecisionTreeRegressor(criterion='friedman_mse', max_depth=2, max_features=2,\n",
       "                              random_state=RandomState(MT19937) at 0x7FDB10A13340)  ,\n",
       "        DecisionTreeRegressor(criterion='friedman_mse', max_depth=2, max_features=2,\n",
       "                              random_state=RandomState(MT19937) at 0x7FDB10A13340)  ,\n",
       "        DecisionTreeRegressor(criterion='friedman_mse', max_depth=2, max_features=2,\n",
       "                              random_state=RandomState(MT19937) at 0x7FDB10A13340)  ],\n",
       "       [DecisionTreeRegressor(criterion='friedman_mse', max_depth=2, max_features=2,\n",
       "                              random_state=RandomState(MT19937) at 0x7FDB10A13340)  ,\n",
       "        DecisionTreeRegressor(criterion='friedman_mse', max_depth=2, max_features=2,\n",
       "                              random_state=RandomState(MT19937) at 0x7FDB10A13340)  ,\n",
       "        DecisionTreeRegressor(criterion='friedman_mse', max_depth=2, max_features=2,\n",
       "                              random_state=RandomState(MT19937) at 0x7FDB10A13340)  ],\n",
       "       [DecisionTreeRegressor(criterion='friedman_mse', max_depth=2, max_features=2,\n",
       "                              random_state=RandomState(MT19937) at 0x7FDB10A13340)  ,\n",
       "        DecisionTreeRegressor(criterion='friedman_mse', max_depth=2, max_features=2,\n",
       "                              random_state=RandomState(MT19937) at 0x7FDB10A13340)  ,\n",
       "        DecisionTreeRegressor(criterion='friedman_mse', max_depth=2, max_features=2,\n",
       "                              random_state=RandomState(MT19937) at 0x7FDB10A13340)  ],\n",
       "       [DecisionTreeRegressor(criterion='friedman_mse', max_depth=2, max_features=2,\n",
       "                              random_state=RandomState(MT19937) at 0x7FDB10A13340)  ,\n",
       "        DecisionTreeRegressor(criterion='friedman_mse', max_depth=2, max_features=2,\n",
       "                              random_state=RandomState(MT19937) at 0x7FDB10A13340)  ,\n",
       "        DecisionTreeRegressor(criterion='friedman_mse', max_depth=2, max_features=2,\n",
       "                              random_state=RandomState(MT19937) at 0x7FDB10A13340)  ],\n",
       "       [DecisionTreeRegressor(criterion='friedman_mse', max_depth=2, max_features=2,\n",
       "                              random_state=RandomState(MT19937) at 0x7FDB10A13340)  ,\n",
       "        DecisionTreeRegressor(criterion='friedman_mse', max_depth=2, max_features=2,\n",
       "                              random_state=RandomState(MT19937) at 0x7FDB10A13340)  ,\n",
       "        DecisionTreeRegressor(criterion='friedman_mse', max_depth=2, max_features=2,\n",
       "                              random_state=RandomState(MT19937) at 0x7FDB10A13340)  ],\n",
       "       [DecisionTreeRegressor(criterion='friedman_mse', max_depth=2, max_features=2,\n",
       "                              random_state=RandomState(MT19937) at 0x7FDB10A13340)  ,\n",
       "        DecisionTreeRegressor(criterion='friedman_mse', max_depth=2, max_features=2,\n",
       "                              random_state=RandomState(MT19937) at 0x7FDB10A13340)  ,\n",
       "        DecisionTreeRegressor(criterion='friedman_mse', max_depth=2, max_features=2,\n",
       "                              random_state=RandomState(MT19937) at 0x7FDB10A13340)  ],\n",
       "       [DecisionTreeRegressor(criterion='friedman_mse', max_depth=2, max_features=2,\n",
       "                              random_state=RandomState(MT19937) at 0x7FDB10A13340)  ,\n",
       "        DecisionTreeRegressor(criterion='friedman_mse', max_depth=2, max_features=2,\n",
       "                              random_state=RandomState(MT19937) at 0x7FDB10A13340)  ,\n",
       "        DecisionTreeRegressor(criterion='friedman_mse', max_depth=2, max_features=2,\n",
       "                              random_state=RandomState(MT19937) at 0x7FDB10A13340)  ],\n",
       "       [DecisionTreeRegressor(criterion='friedman_mse', max_depth=2, max_features=2,\n",
       "                              random_state=RandomState(MT19937) at 0x7FDB10A13340)  ,\n",
       "        DecisionTreeRegressor(criterion='friedman_mse', max_depth=2, max_features=2,\n",
       "                              random_state=RandomState(MT19937) at 0x7FDB10A13340)  ,\n",
       "        DecisionTreeRegressor(criterion='friedman_mse', max_depth=2, max_features=2,\n",
       "                              random_state=RandomState(MT19937) at 0x7FDB10A13340)  ],\n",
       "       [DecisionTreeRegressor(criterion='friedman_mse', max_depth=2, max_features=2,\n",
       "                              random_state=RandomState(MT19937) at 0x7FDB10A13340)  ,\n",
       "        DecisionTreeRegressor(criterion='friedman_mse', max_depth=2, max_features=2,\n",
       "                              random_state=RandomState(MT19937) at 0x7FDB10A13340)  ,\n",
       "        DecisionTreeRegressor(criterion='friedman_mse', max_depth=2, max_features=2,\n",
       "                              random_state=RandomState(MT19937) at 0x7FDB10A13340)  ],\n",
       "       [DecisionTreeRegressor(criterion='friedman_mse', max_depth=2, max_features=2,\n",
       "                              random_state=RandomState(MT19937) at 0x7FDB10A13340)  ,\n",
       "        DecisionTreeRegressor(criterion='friedman_mse', max_depth=2, max_features=2,\n",
       "                              random_state=RandomState(MT19937) at 0x7FDB10A13340)  ,\n",
       "        DecisionTreeRegressor(criterion='friedman_mse', max_depth=2, max_features=2,\n",
       "                              random_state=RandomState(MT19937) at 0x7FDB10A13340)  ],\n",
       "       [DecisionTreeRegressor(criterion='friedman_mse', max_depth=2, max_features=2,\n",
       "                              random_state=RandomState(MT19937) at 0x7FDB10A13340)  ,\n",
       "        DecisionTreeRegressor(criterion='friedman_mse', max_depth=2, max_features=2,\n",
       "                              random_state=RandomState(MT19937) at 0x7FDB10A13340)  ,\n",
       "        DecisionTreeRegressor(criterion='friedman_mse', max_depth=2, max_features=2,\n",
       "                              random_state=RandomState(MT19937) at 0x7FDB10A13340)  ]],\n",
       "      dtype=object)"
      ]
     },
     "execution_count": 8,
     "metadata": {},
     "output_type": "execute_result"
    }
   ],
   "source": [
    "# Decision trees that have been generated\n",
    "gb_clf.estimators_"
   ]
  },
  {
   "cell_type": "code",
   "execution_count": null,
   "metadata": {},
   "outputs": [],
   "source": []
  }
 ],
 "metadata": {
  "kernelspec": {
   "display_name": "base",
   "language": "python",
   "name": "python3"
  },
  "language_info": {
   "codemirror_mode": {
    "name": "ipython",
    "version": 3
   },
   "file_extension": ".py",
   "mimetype": "text/x-python",
   "name": "python",
   "nbconvert_exporter": "python",
   "pygments_lexer": "ipython3",
   "version": "3.9.13"
  },
  "orig_nbformat": 4
 },
 "nbformat": 4,
 "nbformat_minor": 2
}
